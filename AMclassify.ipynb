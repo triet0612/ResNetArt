{
 "cells": [
  {
   "cell_type": "code",
   "execution_count": 1,
   "id": "9eb5cdc6-dfff-47d0-99b4-a38f30b9d342",
   "metadata": {},
   "outputs": [],
   "source": [
    "import pathlib\n",
    "import tensorflow as tf\n",
    "\n",
    "train_dir = pathlib.Path('DRAM_train/')\n",
    "test_dir = pathlib.Path('DRAM_test/')\n",
    "\n",
    "m = 224\n",
    "batch = 16"
   ]
  },
  {
   "cell_type": "code",
   "execution_count": 2,
   "id": "ddd5a9f9-b174-46dd-b0c0-cd5348f258b9",
   "metadata": {
    "tags": []
   },
   "outputs": [
    {
     "name": "stdout",
     "output_type": "stream",
     "text": [
      "Found 5677 files belonging to 4 classes.\n",
      "Found 583 files belonging to 4 classes.\n"
     ]
    }
   ],
   "source": [
    "train_ds = tf.keras.preprocessing.image_dataset_from_directory(\n",
    "    train_dir,\n",
    "    seed=123,\n",
    "    image_size=(m, m),\n",
    "    batch_size=batch\n",
    ")\n",
    "\n",
    "val_ds = tf.keras.preprocessing.image_dataset_from_directory(\n",
    "    test_dir,\n",
    "    seed=123,\n",
    "    image_size=(m, m),\n",
    "    batch_size=batch\n",
    ")\n",
    "num_classes = 4"
   ]
  },
  {
   "cell_type": "code",
   "execution_count": 3,
   "id": "7d12f126-9a65-4e4d-a971-7cbcf542a67a",
   "metadata": {},
   "outputs": [],
   "source": [
    "AUTOTUNE = tf.data.AUTOTUNE\n",
    "\n",
    "train_ds = train_ds.cache().prefetch(buffer_size=AUTOTUNE)\n",
    "val_ds = val_ds.cache().prefetch(buffer_size=AUTOTUNE)"
   ]
  },
  {
   "cell_type": "code",
   "execution_count": 4,
   "id": "0f383cf9-8337-4be0-929d-4b0302999173",
   "metadata": {},
   "outputs": [
    {
     "name": "stdout",
     "output_type": "stream",
     "text": [
      "Epoch 1/11\n",
      "355/355 [==============================] - 236s 656ms/step - loss: 1.3607 - accuracy: 0.2877 - val_loss: 1.4100 - val_accuracy: 0.2419\n",
      "Epoch 2/11\n",
      "355/355 [==============================] - 227s 638ms/step - loss: 1.3458 - accuracy: 0.3333 - val_loss: 1.4042 - val_accuracy: 0.2333\n",
      "Epoch 3/11\n",
      "355/355 [==============================] - 188s 528ms/step - loss: 1.3336 - accuracy: 0.3562 - val_loss: 1.3994 - val_accuracy: 0.2470\n",
      "Epoch 4/11\n",
      "355/355 [==============================] - 228s 643ms/step - loss: 1.3228 - accuracy: 0.3729 - val_loss: 1.3955 - val_accuracy: 0.2384\n",
      "Epoch 5/11\n",
      "355/355 [==============================] - 192s 540ms/step - loss: 1.3134 - accuracy: 0.3851 - val_loss: 1.3924 - val_accuracy: 0.2401\n",
      "Epoch 6/11\n",
      "355/355 [==============================] - 194s 546ms/step - loss: 1.3050 - accuracy: 0.3932 - val_loss: 1.3898 - val_accuracy: 0.2504\n",
      "Epoch 7/11\n",
      "355/355 [==============================] - 191s 538ms/step - loss: 1.2976 - accuracy: 0.4013 - val_loss: 1.3878 - val_accuracy: 0.2521\n",
      "Epoch 8/11\n",
      "355/355 [==============================] - 188s 531ms/step - loss: 1.2909 - accuracy: 0.4057 - val_loss: 1.3862 - val_accuracy: 0.2607\n",
      "Epoch 9/11\n",
      "355/355 [==============================] - 189s 532ms/step - loss: 1.2850 - accuracy: 0.4113 - val_loss: 1.3850 - val_accuracy: 0.2710\n",
      "Epoch 10/11\n",
      "355/355 [==============================] - 187s 527ms/step - loss: 1.2796 - accuracy: 0.4152 - val_loss: 1.3841 - val_accuracy: 0.2744\n",
      "Epoch 11/11\n",
      "355/355 [==============================] - 303s 856ms/step - loss: 1.2747 - accuracy: 0.4191 - val_loss: 1.3834 - val_accuracy: 0.2796\n"
     ]
    },
    {
     "data": {
      "text/plain": [
       "<keras.callbacks.History at 0x1b3e4c151e0>"
      ]
     },
     "execution_count": 4,
     "metadata": {},
     "output_type": "execute_result"
    }
   ],
   "source": [
    "model = tf.keras.models.Sequential([\n",
    "  tf.keras.layers.Rescaling(1./255),\n",
    "  tf.keras.applications.ResNet50(include_top=False, pooling='avg', weights=None, input_shape=(m, m, 3)),\n",
    "  tf.keras.layers.Dense(num_classes, activation='softmax')\n",
    "])\n",
    "\n",
    "model.layers[1].trainable = False\n",
    "\n",
    "model.compile(\n",
    "  optimizer=tf.optimizers.Adam(),\n",
    "  loss=tf.keras.losses.SparseCategoricalCrossentropy(),\n",
    "  metrics=['accuracy']\n",
    ")\n",
    "\n",
    "model.fit(\n",
    "  train_ds,\n",
    "  validation_data=val_ds,\n",
    "  epochs=11\n",
    ")"
   ]
  },
  {
   "cell_type": "code",
   "execution_count": 5,
   "id": "403fc657-54f0-40a7-b5c6-de2176ca2d7a",
   "metadata": {},
   "outputs": [
    {
     "name": "stdout",
     "output_type": "stream",
     "text": [
      "Model: \"sequential\"\n",
      "_________________________________________________________________\n",
      " Layer (type)                Output Shape              Param #   \n",
      "=================================================================\n",
      " rescaling (Rescaling)       (None, 224, 224, 3)       0         \n",
      "                                                                 \n",
      " resnet50 (Functional)       (None, 2048)              23587712  \n",
      "                                                                 \n",
      " dense (Dense)               (None, 4)                 8196      \n",
      "                                                                 \n",
      "=================================================================\n",
      "Total params: 23,595,908\n",
      "Trainable params: 8,196\n",
      "Non-trainable params: 23,587,712\n",
      "_________________________________________________________________\n"
     ]
    }
   ],
   "source": [
    "model.summary()"
   ]
  }
 ],
 "metadata": {
  "kernelspec": {
   "display_name": "Python 3.10.8 ('venv': venv)",
   "language": "python",
   "name": "python3"
  },
  "language_info": {
   "codemirror_mode": {
    "name": "ipython",
    "version": 3
   },
   "file_extension": ".py",
   "mimetype": "text/x-python",
   "name": "python",
   "nbconvert_exporter": "python",
   "pygments_lexer": "ipython3",
   "version": "3.10.8"
  },
  "vscode": {
   "interpreter": {
    "hash": "777845bae5edca00a876ba436ef3eb93dfaaa0b86b5c7d8c544683eada5ced61"
   }
  }
 },
 "nbformat": 4,
 "nbformat_minor": 5
}
